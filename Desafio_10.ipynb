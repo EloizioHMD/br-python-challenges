{
  "cells": [
    {
      "cell_type": "markdown",
      "metadata": {
        "id": "view-in-github",
        "colab_type": "text"
      },
      "source": [
        "<a href=\"https://colab.research.google.com/github/EloizioHMD/br-python-challenges/blob/master/Desafio_10.ipynb\" target=\"_parent\"><img src=\"https://colab.research.google.com/assets/colab-badge.svg\" alt=\"Open In Colab\"/></a>"
      ]
    },
    {
      "cell_type": "markdown",
      "metadata": {
        "id": "a4-FLDRof6Jv"
      },
      "source": [
        "### Desafio 10\n",
        "\n",
        "Dada uma lista, divida-a em 3 partes iguais e reverta a ordem de cada lista.\n",
        "\n",
        "**Exemplo:** \n",
        "\n",
        "Entrada: \\\n",
        "sampleList = [11, 45, 8, 23, 14, 12, 78, 45, 89]\n",
        "\n",
        "Saída: \\\n",
        "Parte 1 [8, 45, 11] \\\n",
        "Parte 2 [12, 14, 23] \\\n",
        "Parte 3 [89, 45, 78] "
      ]
    },
    {
      "cell_type": "code",
      "execution_count": 63,
      "metadata": {
        "id": "IJ70pUjnf6Jw"
      },
      "outputs": [],
      "source": [
        "sampleList = [11, 45, 8, 23, 14, 12, 78, 45, 89]"
      ]
    },
    {
      "cell_type": "code",
      "execution_count": 64,
      "metadata": {
        "colab": {
          "base_uri": "https://localhost:8080/"
        },
        "id": "pNrXNVqf8Wc1",
        "outputId": "967122ee-50e3-49b4-cbde-a9254c2fa9fc"
      },
      "outputs": [
        {
          "output_type": "stream",
          "name": "stdout",
          "text": [
            "Parte1 [8, 45, 11]\n",
            "Parte2 [12, 14, 23]\n",
            "Parte3 [89, 45, 78]\n"
          ]
        }
      ],
      "source": [
        "qtd = round(len(sampleList) / 3)\n",
        "\n",
        "Parte1 = sampleList[:qtd ]\n",
        "Parte2 = sampleList[qtd:qtd+qtd]\n",
        "Parte3 = sampleList[-qtd:]\n",
        "\n",
        "print('Parte1', Parte1[::-1])\n",
        "print('Parte2', Parte2[::-1])\n",
        "print('Parte3', Parte3[::-1])"
      ]
    },
    {
      "cell_type": "markdown",
      "source": [
        "O código funciona com qualquer conjunto multiplos de 3."
      ],
      "metadata": {
        "id": "7Ar89d3sFDJc"
      }
    },
    {
      "cell_type": "code",
      "source": [
        "import random\n",
        " \n",
        "randList = random.sample(range(1, 100), 12)\n",
        "print(randList)"
      ],
      "metadata": {
        "id": "bp4h6NdZEsYf",
        "outputId": "1ebdae38-d6b1-4b50-8544-0ae296dd4726",
        "colab": {
          "base_uri": "https://localhost:8080/"
        }
      },
      "execution_count": 74,
      "outputs": [
        {
          "output_type": "stream",
          "name": "stdout",
          "text": [
            "[29, 86, 82, 52, 10, 81, 55, 87, 66, 77, 99, 91]\n"
          ]
        }
      ]
    },
    {
      "cell_type": "code",
      "source": [
        "qtd = round(len(randList) / 3)\n",
        "\n",
        "Parte1 = randList[:qtd ]\n",
        "Parte2 = randList[qtd:qtd+qtd]\n",
        "Parte3 = randList[-qtd:]\n",
        "\n",
        "print('Parte1', Parte1[::-1])\n",
        "print('Parte2', Parte2[::-1])\n",
        "print('Parte3', Parte3[::-1])"
      ],
      "metadata": {
        "id": "CH0yPQ0rFJzY",
        "outputId": "2bbf2836-0db3-4f66-b634-ee522081fbce",
        "colab": {
          "base_uri": "https://localhost:8080/"
        }
      },
      "execution_count": 75,
      "outputs": [
        {
          "output_type": "stream",
          "name": "stdout",
          "text": [
            "Parte1 [52, 82, 86, 29]\n",
            "Parte2 [87, 55, 81, 10]\n",
            "Parte3 [91, 99, 77, 66]\n"
          ]
        }
      ]
    }
  ],
  "metadata": {
    "anaconda-cloud": {},
    "colab": {
      "name": "Desafio 10.ipynb",
      "provenance": [],
      "include_colab_link": true
    },
    "kernelspec": {
      "display_name": "Python 3",
      "language": "python",
      "name": "python3"
    },
    "language_info": {
      "codemirror_mode": {
        "name": "ipython",
        "version": 3
      },
      "file_extension": ".py",
      "mimetype": "text/x-python",
      "name": "python",
      "nbconvert_exporter": "python",
      "pygments_lexer": "ipython3",
      "version": "3.7.9"
    }
  },
  "nbformat": 4,
  "nbformat_minor": 0
}