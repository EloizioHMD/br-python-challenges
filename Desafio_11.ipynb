{
  "cells": [
    {
      "cell_type": "markdown",
      "metadata": {
        "id": "view-in-github",
        "colab_type": "text"
      },
      "source": [
        "<a href=\"https://colab.research.google.com/github/EloizioHMD/br-python-challenges/blob/master/Desafio_11.ipynb\" target=\"_parent\"><img src=\"https://colab.research.google.com/assets/colab-badge.svg\" alt=\"Open In Colab\"/></a>"
      ]
    },
    {
      "cell_type": "markdown",
      "metadata": {
        "id": "y1R0m4oWf6Jz"
      },
      "source": [
        "### Desafio 11\n",
        "Dados uma sequência com `n` números inteiros, determinar quantos números da sequência são pares e quantos são ímpares.\\\n",
        "Por exemplo, para a sequência\n",
        "\n",
        "`6   2   7  -5   8  -4`\n",
        "\n",
        "a sua função deve retornar o número 4 para o número de pares e 2 para o de ímpares.\\\n",
        "A saída deve ser um **tupla** contendo primeiramente o número de pares e em seguida o número de ímpares.\\\n",
        "Para o exemplo anterior, a saída seria `(4, 2)`."
      ]
    },
    {
      "cell_type": "code",
      "execution_count": 1,
      "metadata": {
        "id": "pSIzX4zUf6Jz"
      },
      "outputs": [],
      "source": [
        "# Seu código\n",
        "def contar_pares_impares(entrada):\n",
        "    c_par = c_impar = 0\n",
        "    contador = [] \n",
        "    for num in entrada:\n",
        "      if num % 2 == 0:\n",
        "        c_par += 1\n",
        "      else:\n",
        "        c_impar +=1\n",
        "    contador.append(c_par)\n",
        "    contador.append(c_impar)\n",
        "    return tuple(contador)\n"
      ]
    },
    {
      "cell_type": "code",
      "execution_count": 3,
      "metadata": {
        "colab": {
          "base_uri": "https://localhost:8080/"
        },
        "id": "OQG6erslSjri",
        "outputId": "3599ce9e-3ec2-437c-8023-c20f3ef0a171"
      },
      "outputs": [
        {
          "output_type": "execute_result",
          "data": {
            "text/plain": [
              "(4, 2)"
            ]
          },
          "metadata": {},
          "execution_count": 3
        }
      ],
      "source": [
        "contar_pares_impares([6, 2, 7, -5, 8, -4])"
      ]
    },
    {
      "cell_type": "markdown",
      "source": [
        "Uma função de contagem simples, apenas para rever os conceitos de resto."
      ],
      "metadata": {
        "id": "2kZeo52zhTdC"
      }
    },
    {
      "cell_type": "code",
      "source": [
        "def par_impar(valor):\n",
        "  valor = [valor]\n",
        "  for num in valor:\n",
        "    if num % 2 == 0:\n",
        "      return print('É par!')\n",
        "    else:\n",
        "      return print('É impar!')"
      ],
      "metadata": {
        "id": "x-o_IcHpfOmc"
      },
      "execution_count": 17,
      "outputs": []
    },
    {
      "cell_type": "code",
      "source": [
        "par_impar(5)"
      ],
      "metadata": {
        "id": "_qegvXPjgPcm",
        "outputId": "36222340-f246-41cf-9c42-cf929d26bd12",
        "colab": {
          "base_uri": "https://localhost:8080/"
        }
      },
      "execution_count": 19,
      "outputs": [
        {
          "output_type": "stream",
          "name": "stdout",
          "text": [
            "É impar!\n"
          ]
        }
      ]
    }
  ],
  "metadata": {
    "anaconda-cloud": {},
    "colab": {
      "name": "Desafio 11.ipynb",
      "provenance": [],
      "include_colab_link": true
    },
    "kernelspec": {
      "display_name": "Python 3",
      "language": "python",
      "name": "python3"
    },
    "language_info": {
      "codemirror_mode": {
        "name": "ipython",
        "version": 3
      },
      "file_extension": ".py",
      "mimetype": "text/x-python",
      "name": "python",
      "nbconvert_exporter": "python",
      "pygments_lexer": "ipython3",
      "version": "3.7.9"
    }
  },
  "nbformat": 4,
  "nbformat_minor": 0
}